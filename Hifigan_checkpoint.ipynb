{
  "nbformat": 4,
  "nbformat_minor": 0,
  "metadata": {
    "colab": {
      "name": "Hifigan_checkpoint.ipynb",
      "provenance": [],
      "collapsed_sections": []
    },
    "kernelspec": {
      "name": "python3",
      "display_name": "Python 3"
    },
    "language_info": {
      "name": "python"
    },
    "accelerator": "GPU",
    "widgets": {
      "application/vnd.jupyter.widget-state+json": {
        "0839f36326a844ccb2d8a44372d71359": {
          "model_module": "@jupyter-widgets/controls",
          "model_name": "VBoxModel",
          "model_module_version": "1.5.0",
          "state": {
            "_view_name": "VBoxView",
            "_dom_classes": [],
            "_model_name": "VBoxModel",
            "_view_module": "@jupyter-widgets/controls",
            "_model_module_version": "1.5.0",
            "_view_count": null,
            "_view_module_version": "1.5.0",
            "box_style": "",
            "layout": "IPY_MODEL_8e9e9c1db07543a285fc2f23b55a78aa",
            "_model_module": "@jupyter-widgets/controls",
            "children": [
              "IPY_MODEL_05b0089fadb1485f986b739bb1bd7d83",
              "IPY_MODEL_9c8d983bc38b4202a24975cb35bb694e"
            ]
          }
        },
        "8e9e9c1db07543a285fc2f23b55a78aa": {
          "model_module": "@jupyter-widgets/base",
          "model_name": "LayoutModel",
          "model_module_version": "1.2.0",
          "state": {
            "_view_name": "LayoutView",
            "grid_template_rows": null,
            "right": null,
            "justify_content": null,
            "_view_module": "@jupyter-widgets/base",
            "overflow": null,
            "_model_module_version": "1.2.0",
            "_view_count": null,
            "flex_flow": null,
            "width": null,
            "min_width": null,
            "border": null,
            "align_items": null,
            "bottom": null,
            "_model_module": "@jupyter-widgets/base",
            "top": null,
            "grid_column": null,
            "overflow_y": null,
            "overflow_x": null,
            "grid_auto_flow": null,
            "grid_area": null,
            "grid_template_columns": null,
            "flex": null,
            "_model_name": "LayoutModel",
            "justify_items": null,
            "grid_row": null,
            "max_height": null,
            "align_content": null,
            "visibility": null,
            "align_self": null,
            "height": null,
            "min_height": null,
            "padding": null,
            "grid_auto_rows": null,
            "grid_gap": null,
            "max_width": null,
            "order": null,
            "_view_module_version": "1.2.0",
            "grid_template_areas": null,
            "object_position": null,
            "object_fit": null,
            "grid_auto_columns": null,
            "margin": null,
            "display": null,
            "left": null
          }
        },
        "05b0089fadb1485f986b739bb1bd7d83": {
          "model_module": "@jupyter-widgets/controls",
          "model_name": "LabelModel",
          "model_module_version": "1.5.0",
          "state": {
            "_view_name": "LabelView",
            "style": "IPY_MODEL_1b9f5d05dd80466c8eeda8471448a3e1",
            "_dom_classes": [],
            "description": "",
            "_model_name": "LabelModel",
            "placeholder": "​",
            "_view_module": "@jupyter-widgets/controls",
            "_model_module_version": "1.5.0",
            "value": " 24.41MB of 24.41MB uploaded (0.00MB deduped)\r",
            "_view_count": null,
            "_view_module_version": "1.5.0",
            "description_tooltip": null,
            "_model_module": "@jupyter-widgets/controls",
            "layout": "IPY_MODEL_d531bf2ddf89494bbf250c868266433f"
          }
        },
        "9c8d983bc38b4202a24975cb35bb694e": {
          "model_module": "@jupyter-widgets/controls",
          "model_name": "FloatProgressModel",
          "model_module_version": "1.5.0",
          "state": {
            "_view_name": "ProgressView",
            "style": "IPY_MODEL_0cbc67bbe47c4af1bf794296dbfb762f",
            "_dom_classes": [],
            "description": "",
            "_model_name": "FloatProgressModel",
            "bar_style": "",
            "max": 1,
            "_view_module": "@jupyter-widgets/controls",
            "_model_module_version": "1.5.0",
            "value": 1,
            "_view_count": null,
            "_view_module_version": "1.5.0",
            "orientation": "horizontal",
            "min": 0,
            "description_tooltip": null,
            "_model_module": "@jupyter-widgets/controls",
            "layout": "IPY_MODEL_3e4ba046d7074a82bc0eb927904c1678"
          }
        },
        "1b9f5d05dd80466c8eeda8471448a3e1": {
          "model_module": "@jupyter-widgets/controls",
          "model_name": "DescriptionStyleModel",
          "model_module_version": "1.5.0",
          "state": {
            "_view_name": "StyleView",
            "_model_name": "DescriptionStyleModel",
            "description_width": "",
            "_view_module": "@jupyter-widgets/base",
            "_model_module_version": "1.5.0",
            "_view_count": null,
            "_view_module_version": "1.2.0",
            "_model_module": "@jupyter-widgets/controls"
          }
        },
        "d531bf2ddf89494bbf250c868266433f": {
          "model_module": "@jupyter-widgets/base",
          "model_name": "LayoutModel",
          "model_module_version": "1.2.0",
          "state": {
            "_view_name": "LayoutView",
            "grid_template_rows": null,
            "right": null,
            "justify_content": null,
            "_view_module": "@jupyter-widgets/base",
            "overflow": null,
            "_model_module_version": "1.2.0",
            "_view_count": null,
            "flex_flow": null,
            "width": null,
            "min_width": null,
            "border": null,
            "align_items": null,
            "bottom": null,
            "_model_module": "@jupyter-widgets/base",
            "top": null,
            "grid_column": null,
            "overflow_y": null,
            "overflow_x": null,
            "grid_auto_flow": null,
            "grid_area": null,
            "grid_template_columns": null,
            "flex": null,
            "_model_name": "LayoutModel",
            "justify_items": null,
            "grid_row": null,
            "max_height": null,
            "align_content": null,
            "visibility": null,
            "align_self": null,
            "height": null,
            "min_height": null,
            "padding": null,
            "grid_auto_rows": null,
            "grid_gap": null,
            "max_width": null,
            "order": null,
            "_view_module_version": "1.2.0",
            "grid_template_areas": null,
            "object_position": null,
            "object_fit": null,
            "grid_auto_columns": null,
            "margin": null,
            "display": null,
            "left": null
          }
        },
        "0cbc67bbe47c4af1bf794296dbfb762f": {
          "model_module": "@jupyter-widgets/controls",
          "model_name": "ProgressStyleModel",
          "model_module_version": "1.5.0",
          "state": {
            "_view_name": "StyleView",
            "_model_name": "ProgressStyleModel",
            "description_width": "",
            "_view_module": "@jupyter-widgets/base",
            "_model_module_version": "1.5.0",
            "_view_count": null,
            "_view_module_version": "1.2.0",
            "bar_color": null,
            "_model_module": "@jupyter-widgets/controls"
          }
        },
        "3e4ba046d7074a82bc0eb927904c1678": {
          "model_module": "@jupyter-widgets/base",
          "model_name": "LayoutModel",
          "model_module_version": "1.2.0",
          "state": {
            "_view_name": "LayoutView",
            "grid_template_rows": null,
            "right": null,
            "justify_content": null,
            "_view_module": "@jupyter-widgets/base",
            "overflow": null,
            "_model_module_version": "1.2.0",
            "_view_count": null,
            "flex_flow": null,
            "width": null,
            "min_width": null,
            "border": null,
            "align_items": null,
            "bottom": null,
            "_model_module": "@jupyter-widgets/base",
            "top": null,
            "grid_column": null,
            "overflow_y": null,
            "overflow_x": null,
            "grid_auto_flow": null,
            "grid_area": null,
            "grid_template_columns": null,
            "flex": null,
            "_model_name": "LayoutModel",
            "justify_items": null,
            "grid_row": null,
            "max_height": null,
            "align_content": null,
            "visibility": null,
            "align_self": null,
            "height": null,
            "min_height": null,
            "padding": null,
            "grid_auto_rows": null,
            "grid_gap": null,
            "max_width": null,
            "order": null,
            "_view_module_version": "1.2.0",
            "grid_template_areas": null,
            "object_position": null,
            "object_fit": null,
            "grid_auto_columns": null,
            "margin": null,
            "display": null,
            "left": null
          }
        }
      }
    }
  },
  "cells": [
    {
      "cell_type": "code",
      "metadata": {
        "colab": {
          "base_uri": "https://localhost:8080/"
        },
        "id": "zfnEpneI_yPh",
        "outputId": "ef69ef54-78cc-4b36-be67-06c31c9401f9"
      },
      "source": [
        "!wget https://data.keithito.com/data/speech/LJSpeech-1.1.tar.bz2\n",
        "!tar -xjf LJSpeech-1.1.tar.bz2"
      ],
      "execution_count": null,
      "outputs": [
        {
          "output_type": "stream",
          "name": "stdout",
          "text": [
            "--2021-12-16 10:05:57--  https://data.keithito.com/data/speech/LJSpeech-1.1.tar.bz2\n",
            "Resolving data.keithito.com (data.keithito.com)... 174.138.79.61\n",
            "Connecting to data.keithito.com (data.keithito.com)|174.138.79.61|:443... connected.\n",
            "HTTP request sent, awaiting response... 200 OK\n",
            "Length: 2748572632 (2.6G) [application/octet-stream]\n",
            "Saving to: ‘LJSpeech-1.1.tar.bz2’\n",
            "\n",
            "LJSpeech-1.1.tar.bz 100%[===================>]   2.56G  47.2MB/s    in 57s     \n",
            "\n",
            "2021-12-16 10:06:55 (46.0 MB/s) - ‘LJSpeech-1.1.tar.bz2’ saved [2748572632/2748572632]\n",
            "\n"
          ]
        }
      ]
    },
    {
      "cell_type": "code",
      "metadata": {
        "colab": {
          "base_uri": "https://localhost:8080/"
        },
        "id": "P2kDatKKADg3",
        "outputId": "2ca70b76-4083-4b8b-bd02-db1a80eb0f24"
      },
      "source": [
        "!pip install librosa"
      ],
      "execution_count": null,
      "outputs": [
        {
          "output_type": "stream",
          "name": "stdout",
          "text": [
            "Requirement already satisfied: librosa in /usr/local/lib/python3.7/dist-packages (0.8.1)\n",
            "Requirement already satisfied: packaging>=20.0 in /usr/local/lib/python3.7/dist-packages (from librosa) (21.3)\n",
            "Requirement already satisfied: scikit-learn!=0.19.0,>=0.14.0 in /usr/local/lib/python3.7/dist-packages (from librosa) (1.0.1)\n",
            "Requirement already satisfied: scipy>=1.0.0 in /usr/local/lib/python3.7/dist-packages (from librosa) (1.4.1)\n",
            "Requirement already satisfied: pooch>=1.0 in /usr/local/lib/python3.7/dist-packages (from librosa) (1.5.2)\n",
            "Requirement already satisfied: decorator>=3.0.0 in /usr/local/lib/python3.7/dist-packages (from librosa) (4.4.2)\n",
            "Requirement already satisfied: numba>=0.43.0 in /usr/local/lib/python3.7/dist-packages (from librosa) (0.51.2)\n",
            "Requirement already satisfied: numpy>=1.15.0 in /usr/local/lib/python3.7/dist-packages (from librosa) (1.19.5)\n",
            "Requirement already satisfied: resampy>=0.2.2 in /usr/local/lib/python3.7/dist-packages (from librosa) (0.2.2)\n",
            "Requirement already satisfied: joblib>=0.14 in /usr/local/lib/python3.7/dist-packages (from librosa) (1.1.0)\n",
            "Requirement already satisfied: audioread>=2.0.0 in /usr/local/lib/python3.7/dist-packages (from librosa) (2.1.9)\n",
            "Requirement already satisfied: soundfile>=0.10.2 in /usr/local/lib/python3.7/dist-packages (from librosa) (0.10.3.post1)\n",
            "Requirement already satisfied: setuptools in /usr/local/lib/python3.7/dist-packages (from numba>=0.43.0->librosa) (57.4.0)\n",
            "Requirement already satisfied: llvmlite<0.35,>=0.34.0.dev0 in /usr/local/lib/python3.7/dist-packages (from numba>=0.43.0->librosa) (0.34.0)\n",
            "Requirement already satisfied: pyparsing!=3.0.5,>=2.0.2 in /usr/local/lib/python3.7/dist-packages (from packaging>=20.0->librosa) (3.0.6)\n",
            "Requirement already satisfied: appdirs in /usr/local/lib/python3.7/dist-packages (from pooch>=1.0->librosa) (1.4.4)\n",
            "Requirement already satisfied: requests in /usr/local/lib/python3.7/dist-packages (from pooch>=1.0->librosa) (2.23.0)\n",
            "Requirement already satisfied: six>=1.3 in /usr/local/lib/python3.7/dist-packages (from resampy>=0.2.2->librosa) (1.15.0)\n",
            "Requirement already satisfied: threadpoolctl>=2.0.0 in /usr/local/lib/python3.7/dist-packages (from scikit-learn!=0.19.0,>=0.14.0->librosa) (3.0.0)\n",
            "Requirement already satisfied: cffi>=1.0 in /usr/local/lib/python3.7/dist-packages (from soundfile>=0.10.2->librosa) (1.15.0)\n",
            "Requirement already satisfied: pycparser in /usr/local/lib/python3.7/dist-packages (from cffi>=1.0->soundfile>=0.10.2->librosa) (2.21)\n",
            "Requirement already satisfied: chardet<4,>=3.0.2 in /usr/local/lib/python3.7/dist-packages (from requests->pooch>=1.0->librosa) (3.0.4)\n",
            "Requirement already satisfied: idna<3,>=2.5 in /usr/local/lib/python3.7/dist-packages (from requests->pooch>=1.0->librosa) (2.10)\n",
            "Requirement already satisfied: certifi>=2017.4.17 in /usr/local/lib/python3.7/dist-packages (from requests->pooch>=1.0->librosa) (2021.10.8)\n",
            "Requirement already satisfied: urllib3!=1.25.0,!=1.25.1,<1.26,>=1.21.1 in /usr/local/lib/python3.7/dist-packages (from requests->pooch>=1.0->librosa) (1.24.3)\n"
          ]
        }
      ]
    },
    {
      "cell_type": "code",
      "metadata": {
        "colab": {
          "base_uri": "https://localhost:8080/"
        },
        "id": "En2AYG7Sjyl2",
        "outputId": "73f1d3a5-1462-4202-d88d-ac4b5e209747"
      },
      "source": [
        "!pip install torch==1.10.0+cu111 torchaudio==0.10.0+cu111 -f https://download.pytorch.org/whl/torch_stable.html"
      ],
      "execution_count": null,
      "outputs": [
        {
          "output_type": "stream",
          "name": "stdout",
          "text": [
            "Looking in links: https://download.pytorch.org/whl/torch_stable.html\n",
            "Requirement already satisfied: torch==1.10.0+cu111 in /usr/local/lib/python3.7/dist-packages (1.10.0+cu111)\n",
            "Requirement already satisfied: torchaudio==0.10.0+cu111 in /usr/local/lib/python3.7/dist-packages (0.10.0+cu111)\n",
            "Requirement already satisfied: typing-extensions in /usr/local/lib/python3.7/dist-packages (from torch==1.10.0+cu111) (3.10.0.2)\n"
          ]
        }
      ]
    },
    {
      "cell_type": "code",
      "metadata": {
        "id": "aCpKdcE0ALdP"
      },
      "source": [
        "import torch\n",
        "import librosa\n",
        "import torchaudio\n",
        "from torch import nn\n",
        "from dataclasses import dataclass\n",
        "from typing import Tuple, Optional, List, Union\n",
        "from torch.nn.utils.rnn import pad_sequence\n",
        "import matplotlib.pyplot as plt"
      ],
      "execution_count": null,
      "outputs": []
    },
    {
      "cell_type": "markdown",
      "metadata": {
        "id": "jMLRb9EuqaQu"
      },
      "source": [
        "# Model + utils"
      ]
    },
    {
      "cell_type": "code",
      "metadata": {
        "id": "uOWGuy8mB3KC"
      },
      "source": [
        "@dataclass\n",
        "class Batch:\n",
        "    waveform: torch.Tensor\n",
        "    waveforn_length: torch.Tensor\n",
        "    transcript: List[str]\n",
        "    tokens: torch.Tensor\n",
        "    token_lengths: torch.Tensor\n",
        "    durations: Optional[torch.Tensor] = None\n",
        "\n",
        "    def to(self, device: torch.device) -> 'Batch':\n",
        "        self.waveform = self.waveform.to(device)\n",
        "        self.tokens = self.tokens.to(device)\n",
        "        return self\n",
        "\n",
        "\n",
        "class LJSpeechCollator:\n",
        "\n",
        "    def __call__(self, instances: List[Tuple]) -> Batch:\n",
        "        waveform, waveforn_length, transcript, tokens, token_lengths = list(\n",
        "            zip(*instances)\n",
        "        )\n",
        "\n",
        "        waveform = pad_sequence([\n",
        "            waveform_[0] for waveform_ in waveform\n",
        "        ]).transpose(0, 1)\n",
        "        waveforn_length = torch.cat(waveforn_length)\n",
        "\n",
        "        tokens = pad_sequence([\n",
        "            tokens_[0] for tokens_ in tokens\n",
        "        ]).transpose(0, 1)\n",
        "        token_lengths = torch.cat(token_lengths)\n",
        "\n",
        "        return Batch(waveform, waveforn_length, transcript, tokens, token_lengths)"
      ],
      "execution_count": null,
      "outputs": []
    },
    {
      "cell_type": "code",
      "metadata": {
        "id": "_ATrTbN3B-fP"
      },
      "source": [
        "class LJSpeechDataset(torchaudio.datasets.LJSPEECH):\n",
        "\n",
        "    def __init__(self, root):\n",
        "        super().__init__(root=root)\n",
        "        self._tokenizer = torchaudio.pipelines.TACOTRON2_GRIFFINLIM_CHAR_LJSPEECH.get_text_processor()\n",
        "\n",
        "    def __getitem__(self, index: int):\n",
        "        waveform, _, _, transcript = super().__getitem__(index)\n",
        "        waveforn_length = torch.tensor([waveform.shape[-1]]).int()\n",
        "\n",
        "        tokens, token_lengths = self._tokenizer(transcript)\n",
        "\n",
        "        return waveform, waveforn_length, transcript, tokens, token_lengths\n",
        "\n",
        "    def decode(self, tokens, lengths):\n",
        "        result = []\n",
        "        for tokens_, length in zip(tokens, lengths):\n",
        "            text = \"\".join([\n",
        "                self._tokenizer.tokens[token]\n",
        "                for token in tokens_[:length]\n",
        "            ])\n",
        "            result.append(text)\n",
        "        return result"
      ],
      "execution_count": null,
      "outputs": []
    },
    {
      "cell_type": "code",
      "metadata": {
        "id": "6pMIAKTYCFlQ"
      },
      "source": [
        "@dataclass\n",
        "class MelSpectrogramConfig:\n",
        "    sr: int = 22050\n",
        "    win_length: int = 1024\n",
        "    hop_length: int = 256\n",
        "    n_fft: int = 1024\n",
        "    f_min: int = 0\n",
        "    f_max: int = 8000\n",
        "    n_mels: int = 80\n",
        "    power: float = 1.0\n",
        "\n",
        "    # value of melspectrograms if we fed a silence into `MelSpectrogram`\n",
        "    pad_value: float = -11.5129251\n",
        "\n",
        "\n",
        "class MelSpectrogram(nn.Module):\n",
        "\n",
        "    def __init__(self, config: MelSpectrogramConfig):\n",
        "        super(MelSpectrogram, self).__init__()\n",
        "\n",
        "        self.config = config\n",
        "\n",
        "        self.mel_spectrogram = torchaudio.transforms.MelSpectrogram(\n",
        "            sample_rate=config.sr,\n",
        "            win_length=config.win_length,\n",
        "            hop_length=config.hop_length,\n",
        "            n_fft=config.n_fft,\n",
        "            f_min=config.f_min,\n",
        "            f_max=config.f_max,\n",
        "            n_mels=config.n_mels\n",
        "        )\n",
        "\n",
        "        # The is no way to set power in constructor in 0.5.0 version.\n",
        "        self.mel_spectrogram.spectrogram.power = config.power\n",
        "\n",
        "        # Default `torchaudio` mel basis uses HTK formula. In order to be compatible with WaveGlow\n",
        "        # we decided to use Slaney one instead (as well as `librosa` does by default).\n",
        "        mel_basis = librosa.filters.mel(\n",
        "            sr=config.sr,\n",
        "            n_fft=config.n_fft,\n",
        "            n_mels=config.n_mels,\n",
        "            fmin=config.f_min,\n",
        "            fmax=config.f_max\n",
        "        ).T\n",
        "        self.mel_spectrogram.mel_scale.fb.copy_(torch.tensor(mel_basis))\n",
        "\n",
        "    def forward(self, audio: torch.Tensor) -> torch.Tensor:\n",
        "        \"\"\"\n",
        "        :param audio: Expected shape is [B, T]\n",
        "        :return: Shape is [B, n_mels, T']\n",
        "        \"\"\"\n",
        "\n",
        "        mel = self.mel_spectrogram(audio) \\\n",
        "            .clamp_(min=1e-5) \\\n",
        "            .log_()\n",
        "\n",
        "        return mel"
      ],
      "execution_count": null,
      "outputs": []
    },
    {
      "cell_type": "code",
      "source": [
        "class ResBlock(nn.Module):\n",
        "    def __init__(self, hidden_size, kernel_size, dilations=[[1, 1], [3, 1], [5, 1]]):\n",
        "        super().__init__()\n",
        "        self.layers = nn.ModuleList()\n",
        "        for i in range(len(dilations)):\n",
        "            inner_conv = []\n",
        "            for j in range(len(dilations[i])):\n",
        "                inner_conv.append(nn.LeakyReLU(0.1))\n",
        "                inner_conv.append(nn.Conv1d(hidden_size, hidden_size, kernel_size, dilation=dilations[i][j], padding=(dilations[i][j] * (kernel_size - 1)) // 2))\n",
        "            self.layers.append(nn.Sequential(*inner_conv))\n",
        "    \n",
        "    def forward(self, input):\n",
        "        out = input\n",
        "        for i in range(len(self.layers)):\n",
        "            out = out + self.layers[i](out)\n",
        "        return out\n",
        "\n",
        "\n",
        "class MRF(nn.Module):\n",
        "    def __init__(self, hidden_size):\n",
        "        super().__init__()\n",
        "        self.layers = nn.ModuleList([ResBlock(hidden_size, 3), ResBlock(hidden_size, 7), ResBlock(hidden_size, 11)])\n",
        "    \n",
        "    def forward(self, input):\n",
        "        out = self.layers[0](input)\n",
        "        for i in range(2):\n",
        "            out = out + self.layers[i + 1](input)\n",
        "        out /= 3\n",
        "        return out\n",
        "\n",
        "\n",
        "class Generator(nn.Module):\n",
        "    def __init__(self, in_ch, kernel_sizes=[16, 16, 4, 4]):\n",
        "        super().__init__()\n",
        "        self.input_conv = nn.Conv1d(in_ch, 512, 7, padding=3)\n",
        "\n",
        "        self.layers = nn.Sequential(*[nn.Sequential(\n",
        "                    nn.LeakyReLU(0.1), nn.ConvTranspose1d(512 // (2 ** i), 512 // (2 ** (i + 1)), kernel_sizes[i], kernel_sizes[i] // 2, kernel_sizes[i] // 4),\n",
        "                    MRF(512 // (2 ** (i + 1)))) for i in range(4)])\n",
        "\n",
        "        self.out_conv = nn.Sequential(\n",
        "            nn.LeakyReLU(0.1),\n",
        "            nn.Conv1d(32, 1, 7, padding=3),\n",
        "            nn.Tanh()\n",
        "        )\n",
        "    \n",
        "    def forward(self, input):\n",
        "        out = self.input_conv(input)\n",
        "        out = self.layers(out)\n",
        "        out = self.out_conv(out)\n",
        "        return out"
      ],
      "metadata": {
        "id": "uZ9vkYuiP21q"
      },
      "execution_count": null,
      "outputs": []
    },
    {
      "cell_type": "code",
      "metadata": {
        "colab": {
          "base_uri": "https://localhost:8080/"
        },
        "id": "BmPHKiqFow-i",
        "outputId": "57d67e29-9066-4140-8f5e-f418ae266b9e"
      },
      "source": [
        "!pip install wandb"
      ],
      "execution_count": null,
      "outputs": [
        {
          "output_type": "stream",
          "name": "stdout",
          "text": [
            "Collecting wandb\n",
            "  Downloading wandb-0.12.7-py2.py3-none-any.whl (1.7 MB)\n",
            "\u001b[?25l\r\u001b[K     |▏                               | 10 kB 27.1 MB/s eta 0:00:01\r\u001b[K     |▍                               | 20 kB 33.9 MB/s eta 0:00:01\r\u001b[K     |▋                               | 30 kB 23.1 MB/s eta 0:00:01\r\u001b[K     |▊                               | 40 kB 18.7 MB/s eta 0:00:01\r\u001b[K     |█                               | 51 kB 10.7 MB/s eta 0:00:01\r\u001b[K     |█▏                              | 61 kB 10.3 MB/s eta 0:00:01\r\u001b[K     |█▍                              | 71 kB 10.6 MB/s eta 0:00:01\r\u001b[K     |█▌                              | 81 kB 11.8 MB/s eta 0:00:01\r\u001b[K     |█▊                              | 92 kB 9.1 MB/s eta 0:00:01\r\u001b[K     |██                              | 102 kB 9.9 MB/s eta 0:00:01\r\u001b[K     |██▏                             | 112 kB 9.9 MB/s eta 0:00:01\r\u001b[K     |██▎                             | 122 kB 9.9 MB/s eta 0:00:01\r\u001b[K     |██▌                             | 133 kB 9.9 MB/s eta 0:00:01\r\u001b[K     |██▊                             | 143 kB 9.9 MB/s eta 0:00:01\r\u001b[K     |███                             | 153 kB 9.9 MB/s eta 0:00:01\r\u001b[K     |███                             | 163 kB 9.9 MB/s eta 0:00:01\r\u001b[K     |███▎                            | 174 kB 9.9 MB/s eta 0:00:01\r\u001b[K     |███▌                            | 184 kB 9.9 MB/s eta 0:00:01\r\u001b[K     |███▊                            | 194 kB 9.9 MB/s eta 0:00:01\r\u001b[K     |███▉                            | 204 kB 9.9 MB/s eta 0:00:01\r\u001b[K     |████                            | 215 kB 9.9 MB/s eta 0:00:01\r\u001b[K     |████▎                           | 225 kB 9.9 MB/s eta 0:00:01\r\u001b[K     |████▌                           | 235 kB 9.9 MB/s eta 0:00:01\r\u001b[K     |████▋                           | 245 kB 9.9 MB/s eta 0:00:01\r\u001b[K     |████▉                           | 256 kB 9.9 MB/s eta 0:00:01\r\u001b[K     |█████                           | 266 kB 9.9 MB/s eta 0:00:01\r\u001b[K     |█████▎                          | 276 kB 9.9 MB/s eta 0:00:01\r\u001b[K     |█████▍                          | 286 kB 9.9 MB/s eta 0:00:01\r\u001b[K     |█████▋                          | 296 kB 9.9 MB/s eta 0:00:01\r\u001b[K     |█████▉                          | 307 kB 9.9 MB/s eta 0:00:01\r\u001b[K     |██████                          | 317 kB 9.9 MB/s eta 0:00:01\r\u001b[K     |██████▏                         | 327 kB 9.9 MB/s eta 0:00:01\r\u001b[K     |██████▍                         | 337 kB 9.9 MB/s eta 0:00:01\r\u001b[K     |██████▋                         | 348 kB 9.9 MB/s eta 0:00:01\r\u001b[K     |██████▉                         | 358 kB 9.9 MB/s eta 0:00:01\r\u001b[K     |███████                         | 368 kB 9.9 MB/s eta 0:00:01\r\u001b[K     |███████▏                        | 378 kB 9.9 MB/s eta 0:00:01\r\u001b[K     |███████▍                        | 389 kB 9.9 MB/s eta 0:00:01\r\u001b[K     |███████▋                        | 399 kB 9.9 MB/s eta 0:00:01\r\u001b[K     |███████▊                        | 409 kB 9.9 MB/s eta 0:00:01\r\u001b[K     |████████                        | 419 kB 9.9 MB/s eta 0:00:01\r\u001b[K     |████████▏                       | 430 kB 9.9 MB/s eta 0:00:01\r\u001b[K     |████████▍                       | 440 kB 9.9 MB/s eta 0:00:01\r\u001b[K     |████████▌                       | 450 kB 9.9 MB/s eta 0:00:01\r\u001b[K     |████████▊                       | 460 kB 9.9 MB/s eta 0:00:01\r\u001b[K     |█████████                       | 471 kB 9.9 MB/s eta 0:00:01\r\u001b[K     |█████████                       | 481 kB 9.9 MB/s eta 0:00:01\r\u001b[K     |█████████▎                      | 491 kB 9.9 MB/s eta 0:00:01\r\u001b[K     |█████████▌                      | 501 kB 9.9 MB/s eta 0:00:01\r\u001b[K     |█████████▊                      | 512 kB 9.9 MB/s eta 0:00:01\r\u001b[K     |█████████▉                      | 522 kB 9.9 MB/s eta 0:00:01\r\u001b[K     |██████████                      | 532 kB 9.9 MB/s eta 0:00:01\r\u001b[K     |██████████▎                     | 542 kB 9.9 MB/s eta 0:00:01\r\u001b[K     |██████████▌                     | 552 kB 9.9 MB/s eta 0:00:01\r\u001b[K     |██████████▋                     | 563 kB 9.9 MB/s eta 0:00:01\r\u001b[K     |██████████▉                     | 573 kB 9.9 MB/s eta 0:00:01\r\u001b[K     |███████████                     | 583 kB 9.9 MB/s eta 0:00:01\r\u001b[K     |███████████▎                    | 593 kB 9.9 MB/s eta 0:00:01\r\u001b[K     |███████████▍                    | 604 kB 9.9 MB/s eta 0:00:01\r\u001b[K     |███████████▋                    | 614 kB 9.9 MB/s eta 0:00:01\r\u001b[K     |███████████▉                    | 624 kB 9.9 MB/s eta 0:00:01\r\u001b[K     |████████████                    | 634 kB 9.9 MB/s eta 0:00:01\r\u001b[K     |████████████▏                   | 645 kB 9.9 MB/s eta 0:00:01\r\u001b[K     |████████████▍                   | 655 kB 9.9 MB/s eta 0:00:01\r\u001b[K     |████████████▋                   | 665 kB 9.9 MB/s eta 0:00:01\r\u001b[K     |████████████▉                   | 675 kB 9.9 MB/s eta 0:00:01\r\u001b[K     |█████████████                   | 686 kB 9.9 MB/s eta 0:00:01\r\u001b[K     |█████████████▏                  | 696 kB 9.9 MB/s eta 0:00:01\r\u001b[K     |█████████████▍                  | 706 kB 9.9 MB/s eta 0:00:01\r\u001b[K     |█████████████▋                  | 716 kB 9.9 MB/s eta 0:00:01\r\u001b[K     |█████████████▊                  | 727 kB 9.9 MB/s eta 0:00:01\r\u001b[K     |██████████████                  | 737 kB 9.9 MB/s eta 0:00:01\r\u001b[K     |██████████████▏                 | 747 kB 9.9 MB/s eta 0:00:01\r\u001b[K     |██████████████▍                 | 757 kB 9.9 MB/s eta 0:00:01\r\u001b[K     |██████████████▌                 | 768 kB 9.9 MB/s eta 0:00:01\r\u001b[K     |██████████████▊                 | 778 kB 9.9 MB/s eta 0:00:01\r\u001b[K     |███████████████                 | 788 kB 9.9 MB/s eta 0:00:01\r\u001b[K     |███████████████▏                | 798 kB 9.9 MB/s eta 0:00:01\r\u001b[K     |███████████████▎                | 808 kB 9.9 MB/s eta 0:00:01\r\u001b[K     |███████████████▌                | 819 kB 9.9 MB/s eta 0:00:01\r\u001b[K     |███████████████▊                | 829 kB 9.9 MB/s eta 0:00:01\r\u001b[K     |████████████████                | 839 kB 9.9 MB/s eta 0:00:01\r\u001b[K     |████████████████                | 849 kB 9.9 MB/s eta 0:00:01\r\u001b[K     |████████████████▎               | 860 kB 9.9 MB/s eta 0:00:01\r\u001b[K     |████████████████▌               | 870 kB 9.9 MB/s eta 0:00:01\r\u001b[K     |████████████████▊               | 880 kB 9.9 MB/s eta 0:00:01\r\u001b[K     |████████████████▉               | 890 kB 9.9 MB/s eta 0:00:01\r\u001b[K     |█████████████████               | 901 kB 9.9 MB/s eta 0:00:01\r\u001b[K     |█████████████████▎              | 911 kB 9.9 MB/s eta 0:00:01\r\u001b[K     |█████████████████▍              | 921 kB 9.9 MB/s eta 0:00:01\r\u001b[K     |█████████████████▋              | 931 kB 9.9 MB/s eta 0:00:01\r\u001b[K     |█████████████████▉              | 942 kB 9.9 MB/s eta 0:00:01\r\u001b[K     |██████████████████              | 952 kB 9.9 MB/s eta 0:00:01\r\u001b[K     |██████████████████▏             | 962 kB 9.9 MB/s eta 0:00:01\r\u001b[K     |██████████████████▍             | 972 kB 9.9 MB/s eta 0:00:01\r\u001b[K     |██████████████████▋             | 983 kB 9.9 MB/s eta 0:00:01\r\u001b[K     |██████████████████▉             | 993 kB 9.9 MB/s eta 0:00:01\r\u001b[K     |███████████████████             | 1.0 MB 9.9 MB/s eta 0:00:01\r\u001b[K     |███████████████████▏            | 1.0 MB 9.9 MB/s eta 0:00:01\r\u001b[K     |███████████████████▍            | 1.0 MB 9.9 MB/s eta 0:00:01\r\u001b[K     |███████████████████▋            | 1.0 MB 9.9 MB/s eta 0:00:01\r\u001b[K     |███████████████████▊            | 1.0 MB 9.9 MB/s eta 0:00:01\r\u001b[K     |████████████████████            | 1.1 MB 9.9 MB/s eta 0:00:01\r\u001b[K     |████████████████████▏           | 1.1 MB 9.9 MB/s eta 0:00:01\r\u001b[K     |████████████████████▍           | 1.1 MB 9.9 MB/s eta 0:00:01\r\u001b[K     |████████████████████▌           | 1.1 MB 9.9 MB/s eta 0:00:01\r\u001b[K     |████████████████████▊           | 1.1 MB 9.9 MB/s eta 0:00:01\r\u001b[K     |█████████████████████           | 1.1 MB 9.9 MB/s eta 0:00:01\r\u001b[K     |█████████████████████▏          | 1.1 MB 9.9 MB/s eta 0:00:01\r\u001b[K     |█████████████████████▎          | 1.1 MB 9.9 MB/s eta 0:00:01\r\u001b[K     |█████████████████████▌          | 1.1 MB 9.9 MB/s eta 0:00:01\r\u001b[K     |█████████████████████▊          | 1.1 MB 9.9 MB/s eta 0:00:01\r\u001b[K     |██████████████████████          | 1.2 MB 9.9 MB/s eta 0:00:01\r\u001b[K     |██████████████████████          | 1.2 MB 9.9 MB/s eta 0:00:01\r\u001b[K     |██████████████████████▎         | 1.2 MB 9.9 MB/s eta 0:00:01\r\u001b[K     |██████████████████████▌         | 1.2 MB 9.9 MB/s eta 0:00:01\r\u001b[K     |██████████████████████▊         | 1.2 MB 9.9 MB/s eta 0:00:01\r\u001b[K     |██████████████████████▉         | 1.2 MB 9.9 MB/s eta 0:00:01\r\u001b[K     |███████████████████████         | 1.2 MB 9.9 MB/s eta 0:00:01\r\u001b[K     |███████████████████████▎        | 1.2 MB 9.9 MB/s eta 0:00:01\r\u001b[K     |███████████████████████▌        | 1.2 MB 9.9 MB/s eta 0:00:01\r\u001b[K     |███████████████████████▋        | 1.2 MB 9.9 MB/s eta 0:00:01\r\u001b[K     |███████████████████████▉        | 1.3 MB 9.9 MB/s eta 0:00:01\r\u001b[K     |████████████████████████        | 1.3 MB 9.9 MB/s eta 0:00:01\r\u001b[K     |████████████████████████▎       | 1.3 MB 9.9 MB/s eta 0:00:01\r\u001b[K     |████████████████████████▍       | 1.3 MB 9.9 MB/s eta 0:00:01\r\u001b[K     |████████████████████████▋       | 1.3 MB 9.9 MB/s eta 0:00:01\r\u001b[K     |████████████████████████▉       | 1.3 MB 9.9 MB/s eta 0:00:01\r\u001b[K     |█████████████████████████       | 1.3 MB 9.9 MB/s eta 0:00:01\r\u001b[K     |█████████████████████████▏      | 1.3 MB 9.9 MB/s eta 0:00:01\r\u001b[K     |█████████████████████████▍      | 1.3 MB 9.9 MB/s eta 0:00:01\r\u001b[K     |█████████████████████████▋      | 1.4 MB 9.9 MB/s eta 0:00:01\r\u001b[K     |█████████████████████████▊      | 1.4 MB 9.9 MB/s eta 0:00:01\r\u001b[K     |██████████████████████████      | 1.4 MB 9.9 MB/s eta 0:00:01\r\u001b[K     |██████████████████████████▏     | 1.4 MB 9.9 MB/s eta 0:00:01\r\u001b[K     |██████████████████████████▍     | 1.4 MB 9.9 MB/s eta 0:00:01\r\u001b[K     |██████████████████████████▌     | 1.4 MB 9.9 MB/s eta 0:00:01\r\u001b[K     |██████████████████████████▊     | 1.4 MB 9.9 MB/s eta 0:00:01\r\u001b[K     |███████████████████████████     | 1.4 MB 9.9 MB/s eta 0:00:01\r\u001b[K     |███████████████████████████▏    | 1.4 MB 9.9 MB/s eta 0:00:01\r\u001b[K     |███████████████████████████▎    | 1.4 MB 9.9 MB/s eta 0:00:01\r\u001b[K     |███████████████████████████▌    | 1.5 MB 9.9 MB/s eta 0:00:01\r\u001b[K     |███████████████████████████▊    | 1.5 MB 9.9 MB/s eta 0:00:01\r\u001b[K     |████████████████████████████    | 1.5 MB 9.9 MB/s eta 0:00:01\r\u001b[K     |████████████████████████████    | 1.5 MB 9.9 MB/s eta 0:00:01\r\u001b[K     |████████████████████████████▎   | 1.5 MB 9.9 MB/s eta 0:00:01\r\u001b[K     |████████████████████████████▌   | 1.5 MB 9.9 MB/s eta 0:00:01\r\u001b[K     |████████████████████████████▊   | 1.5 MB 9.9 MB/s eta 0:00:01\r\u001b[K     |████████████████████████████▉   | 1.5 MB 9.9 MB/s eta 0:00:01\r\u001b[K     |█████████████████████████████   | 1.5 MB 9.9 MB/s eta 0:00:01\r\u001b[K     |█████████████████████████████▎  | 1.5 MB 9.9 MB/s eta 0:00:01\r\u001b[K     |█████████████████████████████▌  | 1.6 MB 9.9 MB/s eta 0:00:01\r\u001b[K     |█████████████████████████████▋  | 1.6 MB 9.9 MB/s eta 0:00:01\r\u001b[K     |█████████████████████████████▉  | 1.6 MB 9.9 MB/s eta 0:00:01\r\u001b[K     |██████████████████████████████  | 1.6 MB 9.9 MB/s eta 0:00:01\r\u001b[K     |██████████████████████████████▎ | 1.6 MB 9.9 MB/s eta 0:00:01\r\u001b[K     |██████████████████████████████▍ | 1.6 MB 9.9 MB/s eta 0:00:01\r\u001b[K     |██████████████████████████████▋ | 1.6 MB 9.9 MB/s eta 0:00:01\r\u001b[K     |██████████████████████████████▉ | 1.6 MB 9.9 MB/s eta 0:00:01\r\u001b[K     |███████████████████████████████ | 1.6 MB 9.9 MB/s eta 0:00:01\r\u001b[K     |███████████████████████████████▏| 1.6 MB 9.9 MB/s eta 0:00:01\r\u001b[K     |███████████████████████████████▍| 1.7 MB 9.9 MB/s eta 0:00:01\r\u001b[K     |███████████████████████████████▋| 1.7 MB 9.9 MB/s eta 0:00:01\r\u001b[K     |███████████████████████████████▉| 1.7 MB 9.9 MB/s eta 0:00:01\r\u001b[K     |████████████████████████████████| 1.7 MB 9.9 MB/s eta 0:00:01\r\u001b[K     |████████████████████████████████| 1.7 MB 9.9 MB/s \n",
            "\u001b[?25hCollecting subprocess32>=3.5.3\n",
            "  Downloading subprocess32-3.5.4.tar.gz (97 kB)\n",
            "\u001b[?25l\r\u001b[K     |███▍                            | 10 kB 37.7 MB/s eta 0:00:01\r\u001b[K     |██████▊                         | 20 kB 46.0 MB/s eta 0:00:01\r\u001b[K     |██████████                      | 30 kB 52.9 MB/s eta 0:00:01\r\u001b[K     |█████████████▌                  | 40 kB 57.9 MB/s eta 0:00:01\r\u001b[K     |████████████████▉               | 51 kB 60.8 MB/s eta 0:00:01\r\u001b[K     |████████████████████▏           | 61 kB 65.3 MB/s eta 0:00:01\r\u001b[K     |███████████████████████▋        | 71 kB 66.7 MB/s eta 0:00:01\r\u001b[K     |███████████████████████████     | 81 kB 68.8 MB/s eta 0:00:01\r\u001b[K     |██████████████████████████████▎ | 92 kB 68.6 MB/s eta 0:00:01\r\u001b[K     |████████████████████████████████| 97 kB 9.2 MB/s \n",
            "\u001b[?25hCollecting pathtools\n",
            "  Downloading pathtools-0.1.2.tar.gz (11 kB)\n",
            "Requirement already satisfied: psutil>=5.0.0 in /usr/local/lib/python3.7/dist-packages (from wandb) (5.4.8)\n",
            "Collecting docker-pycreds>=0.4.0\n",
            "  Downloading docker_pycreds-0.4.0-py2.py3-none-any.whl (9.0 kB)\n",
            "Requirement already satisfied: protobuf>=3.12.0 in /usr/local/lib/python3.7/dist-packages (from wandb) (3.17.3)\n",
            "Collecting GitPython>=1.0.0\n",
            "  Downloading GitPython-3.1.24-py3-none-any.whl (180 kB)\n",
            "\u001b[K     |████████████████████████████████| 180 kB 54.9 MB/s \n",
            "\u001b[?25hCollecting sentry-sdk>=1.0.0\n",
            "  Downloading sentry_sdk-1.5.1-py2.py3-none-any.whl (140 kB)\n",
            "\u001b[K     |████████████████████████████████| 140 kB 68.8 MB/s \n",
            "\u001b[?25hCollecting yaspin>=1.0.0\n",
            "  Downloading yaspin-2.1.0-py3-none-any.whl (18 kB)\n",
            "Requirement already satisfied: promise<3,>=2.0 in /usr/local/lib/python3.7/dist-packages (from wandb) (2.3)\n",
            "Requirement already satisfied: PyYAML in /usr/local/lib/python3.7/dist-packages (from wandb) (3.13)\n",
            "Requirement already satisfied: Click!=8.0.0,>=7.0 in /usr/local/lib/python3.7/dist-packages (from wandb) (7.1.2)\n",
            "Collecting configparser>=3.8.1\n",
            "  Downloading configparser-5.2.0-py3-none-any.whl (19 kB)\n",
            "Collecting shortuuid>=0.5.0\n",
            "  Downloading shortuuid-1.0.8-py3-none-any.whl (9.5 kB)\n",
            "Requirement already satisfied: requests<3,>=2.0.0 in /usr/local/lib/python3.7/dist-packages (from wandb) (2.23.0)\n",
            "Requirement already satisfied: python-dateutil>=2.6.1 in /usr/local/lib/python3.7/dist-packages (from wandb) (2.8.2)\n",
            "Requirement already satisfied: six>=1.13.0 in /usr/local/lib/python3.7/dist-packages (from wandb) (1.15.0)\n",
            "Collecting gitdb<5,>=4.0.1\n",
            "  Downloading gitdb-4.0.9-py3-none-any.whl (63 kB)\n",
            "\u001b[K     |████████████████████████████████| 63 kB 2.3 MB/s \n",
            "\u001b[?25hRequirement already satisfied: typing-extensions>=3.7.4.3 in /usr/local/lib/python3.7/dist-packages (from GitPython>=1.0.0->wandb) (3.10.0.2)\n",
            "Collecting smmap<6,>=3.0.1\n",
            "  Downloading smmap-5.0.0-py3-none-any.whl (24 kB)\n",
            "Requirement already satisfied: urllib3!=1.25.0,!=1.25.1,<1.26,>=1.21.1 in /usr/local/lib/python3.7/dist-packages (from requests<3,>=2.0.0->wandb) (1.24.3)\n",
            "Requirement already satisfied: idna<3,>=2.5 in /usr/local/lib/python3.7/dist-packages (from requests<3,>=2.0.0->wandb) (2.10)\n",
            "Requirement already satisfied: chardet<4,>=3.0.2 in /usr/local/lib/python3.7/dist-packages (from requests<3,>=2.0.0->wandb) (3.0.4)\n",
            "Requirement already satisfied: certifi>=2017.4.17 in /usr/local/lib/python3.7/dist-packages (from requests<3,>=2.0.0->wandb) (2021.10.8)\n",
            "Requirement already satisfied: termcolor<2.0.0,>=1.1.0 in /usr/local/lib/python3.7/dist-packages (from yaspin>=1.0.0->wandb) (1.1.0)\n",
            "Building wheels for collected packages: subprocess32, pathtools\n",
            "  Building wheel for subprocess32 (setup.py) ... \u001b[?25l\u001b[?25hdone\n",
            "  Created wheel for subprocess32: filename=subprocess32-3.5.4-py3-none-any.whl size=6502 sha256=08c0127532e81684a88fe49340c02d08b83ce094254aa7282e73fa950459560a\n",
            "  Stored in directory: /root/.cache/pip/wheels/50/ca/fa/8fca8d246e64f19488d07567547ddec8eb084e8c0d7a59226a\n",
            "  Building wheel for pathtools (setup.py) ... \u001b[?25l\u001b[?25hdone\n",
            "  Created wheel for pathtools: filename=pathtools-0.1.2-py3-none-any.whl size=8807 sha256=2bda4e839c8649fc0c1e735c7b4270ad6f37cf7452df7fbe2f58de88a41ce131\n",
            "  Stored in directory: /root/.cache/pip/wheels/3e/31/09/fa59cef12cdcfecc627b3d24273699f390e71828921b2cbba2\n",
            "Successfully built subprocess32 pathtools\n",
            "Installing collected packages: smmap, gitdb, yaspin, subprocess32, shortuuid, sentry-sdk, pathtools, GitPython, docker-pycreds, configparser, wandb\n",
            "Successfully installed GitPython-3.1.24 configparser-5.2.0 docker-pycreds-0.4.0 gitdb-4.0.9 pathtools-0.1.2 sentry-sdk-1.5.1 shortuuid-1.0.8 smmap-5.0.0 subprocess32-3.5.4 wandb-0.12.7 yaspin-2.1.0\n"
          ]
        }
      ]
    },
    {
      "cell_type": "code",
      "metadata": {
        "id": "G75xHsR5ov_1"
      },
      "source": [
        "import wandb\n",
        "\n",
        "\n",
        "class WanDBWriter:\n",
        "    def __init__(self, project='hifi_project'):\n",
        "        wandb.login(key='777734be0649971345886f08a6b84c9b9b190223')\n",
        "        wandb.init(project=project)\n",
        "\n",
        "    def add_metrics(self, metrics):\n",
        "        wandb.log(metrics)\n",
        "\n",
        "    def add_audio(self, pred, true, transcript):\n",
        "        wandb.log({\n",
        "            'pred audio': wandb.Audio(pred.squeeze().numpy(), sample_rate=22050, caption=transcript),\n",
        "            'true audio': wandb.Audio(true.squeeze().numpy(), sample_rate=22050, caption=transcript)\n",
        "        })\n",
        "\n",
        "    def add_spectrogram(self, pred, true, transcript):\n",
        "        wandb.log({\n",
        "            'pred spectrogram': wandb.Image(pred.squeeze().numpy(), caption=transcript),\n",
        "            'true spectrogram': wandb.Image(true.squeeze().numpy(), caption=transcript)\n",
        "        })"
      ],
      "execution_count": null,
      "outputs": []
    },
    {
      "cell_type": "markdown",
      "metadata": {
        "id": "raxKCRSEqe5U"
      },
      "source": [
        "# Train"
      ]
    },
    {
      "cell_type": "code",
      "metadata": {
        "colab": {
          "base_uri": "https://localhost:8080/",
          "height": 281,
          "referenced_widgets": [
            "0839f36326a844ccb2d8a44372d71359",
            "8e9e9c1db07543a285fc2f23b55a78aa",
            "05b0089fadb1485f986b739bb1bd7d83",
            "9c8d983bc38b4202a24975cb35bb694e",
            "1b9f5d05dd80466c8eeda8471448a3e1",
            "d531bf2ddf89494bbf250c868266433f",
            "0cbc67bbe47c4af1bf794296dbfb762f",
            "3e4ba046d7074a82bc0eb927904c1678"
          ]
        },
        "id": "0zUjDVJxpcOe",
        "outputId": "17c87d37-12c3-4d0d-bcc8-fd36ec5221f4"
      },
      "source": [
        "logger = WanDBWriter()"
      ],
      "execution_count": null,
      "outputs": [
        {
          "output_type": "stream",
          "name": "stderr",
          "text": [
            "\u001b[34m\u001b[1mwandb\u001b[0m: \u001b[33mWARNING\u001b[0m Calling wandb.login() after wandb.init() has no effect.\n"
          ]
        },
        {
          "output_type": "display_data",
          "data": {
            "text/html": [
              "Finishing last run (ID:317y7e76) before initializing another..."
            ],
            "text/plain": [
              "<IPython.core.display.HTML object>"
            ]
          },
          "metadata": {}
        },
        {
          "output_type": "display_data",
          "data": {
            "text/html": [
              "<br/>Waiting for W&B process to finish, PID 768... <strong style=\"color:green\">(success).</strong>"
            ],
            "text/plain": [
              "<IPython.core.display.HTML object>"
            ]
          },
          "metadata": {}
        },
        {
          "output_type": "display_data",
          "data": {
            "application/vnd.jupyter.widget-view+json": {
              "model_id": "0839f36326a844ccb2d8a44372d71359",
              "version_minor": 0,
              "version_major": 2
            },
            "text/plain": [
              "VBox(children=(Label(value=' 24.40MB of 24.40MB uploaded (0.00MB deduped)\\r'), FloatProgress(value=1.0, max=1.…"
            ]
          },
          "metadata": {}
        },
        {
          "output_type": "display_data",
          "data": {
            "text/html": [
              "<style>\n",
              "    table.wandb td:nth-child(1) { padding: 0 10px; text-align: right }\n",
              "    .wandb-row { display: flex; flex-direction: row; flex-wrap: wrap; width: 100% }\n",
              "    .wandb-col { display: flex; flex-direction: column; flex-basis: 100%; flex: 1; padding: 10px; }\n",
              "    </style>\n",
              "<div class=\"wandb-row\"><div class=\"wandb-col\">\n",
              "<h3>Run history:</h3><br/><table class=\"wandb\"><tr><td>Learning rate</td><td>██▇▇▇▇▆▆▆▅▅▅▅▅▄▄▄▄▄▃▃▃▃▃▃▃▂▂▂▂▂▂▂▂▁▁▁▁▁▁</td></tr><tr><td>Loss</td><td>█▆▄▂▂▂▂▂▂▂▂▂▂▂▂▁▁▁▁▁▁▁▁▁▁▁▁▁▁▁▁▁▁▁▁▁▁▁▁▁</td></tr></table><br/></div><div class=\"wandb-col\">\n",
              "<h3>Run summary:</h3><br/><table class=\"wandb\"><tr><td>Learning rate</td><td>4e-05</td></tr><tr><td>Loss</td><td>15.13535</td></tr></table>\n",
              "</div></div>\n",
              "Synced 5 W&B file(s), 60 media file(s), 0 artifact file(s) and 0 other file(s)\n",
              "<br/>Synced <strong style=\"color:#cdcd00\">rural-galaxy-13</strong>: <a href=\"https://wandb.ai/pos/hifi_project/runs/317y7e76\" target=\"_blank\">https://wandb.ai/pos/hifi_project/runs/317y7e76</a><br/>\n",
              "Find logs at: <code>./wandb/run-20211216_104727-317y7e76/logs</code><br/>\n"
            ],
            "text/plain": [
              "<IPython.core.display.HTML object>"
            ]
          },
          "metadata": {}
        },
        {
          "output_type": "display_data",
          "data": {
            "text/html": [
              "Successfully finished last run (ID:317y7e76). Initializing new run:<br/>"
            ],
            "text/plain": [
              "<IPython.core.display.HTML object>"
            ]
          },
          "metadata": {}
        },
        {
          "output_type": "display_data",
          "data": {
            "text/html": [
              "\n",
              "                    Syncing run <strong><a href=\"https://wandb.ai/pos/hifi_project/runs/3a7lyc6g\" target=\"_blank\">lively-lion-14</a></strong> to <a href=\"https://wandb.ai/pos/hifi_project\" target=\"_blank\">Weights & Biases</a> (<a href=\"https://docs.wandb.com/integrations/jupyter.html\" target=\"_blank\">docs</a>).<br/>\n",
              "\n",
              "                "
            ],
            "text/plain": [
              "<IPython.core.display.HTML object>"
            ]
          },
          "metadata": {}
        }
      ]
    },
    {
      "cell_type": "code",
      "metadata": {
        "id": "8ma6KY3hQgKJ"
      },
      "source": [
        "device = torch.device('cuda' if torch.cuda.is_available() else 'cpu')\n",
        "featurizer = MelSpectrogram(MelSpectrogramConfig()).to(device)"
      ],
      "execution_count": null,
      "outputs": []
    },
    {
      "cell_type": "code",
      "metadata": {
        "id": "aCMEYj0aLO0L"
      },
      "source": [
        "from torch.utils.data import DataLoader\n",
        "from itertools import islice\n",
        "dataloader = DataLoader(LJSpeechDataset('.'), batch_size=3, collate_fn=LJSpeechCollator())"
      ],
      "execution_count": null,
      "outputs": []
    },
    {
      "cell_type": "code",
      "metadata": {
        "id": "5DfVZMFnLPGJ"
      },
      "source": [
        "dummy_batch = list(islice(dataloader, 1))[0]\n",
        "waveform = dummy_batch.waveform.to(device)\n",
        "mels = featurizer(waveform)"
      ],
      "execution_count": null,
      "outputs": []
    },
    {
      "cell_type": "code",
      "metadata": {
        "id": "rz2GtEzfLVf5",
        "colab": {
          "base_uri": "https://localhost:8080/"
        },
        "outputId": "3a821070-d7dc-4e6e-c12c-6fcffe50b2dc"
      },
      "source": [
        "from tqdm import tqdm\n",
        "import random\n",
        "\n",
        "loss_func = nn.L1Loss()\n",
        "n_epochs = 7000\n",
        "model = Generator(80).to(device)\n",
        "model.train()\n",
        "opt = torch.optim.AdamW(model.parameters(), lr=2e-4, betas=(0.8, 0.99))\n",
        "scheduler = torch.optim.lr_scheduler.ExponentialLR(opt, 0.999)\n",
        "\n",
        "for i in tqdm(range(n_epochs)):\n",
        "    pred = model(mels)\n",
        "    pred_mels = featurizer(pred.squeeze(1))\n",
        "    opt.zero_grad()\n",
        "    min_mel = min(mels.shape[2], pred_mels.shape[2])\n",
        "    loss = loss_func(mels[:, :, :min_mel], pred_mels[:, :, :min_mel]) * 45\n",
        "    loss.backward()\n",
        "    opt.step()\n",
        "    scheduler.step()\n",
        "    logger.add_metrics({\"Loss\": loss.item(), \"Learning rate\": scheduler.get_last_lr()[0]})\n",
        "    if (i + 1) % 50 == 0:\n",
        "        rand_idx = random.randint(0, 2)\n",
        "        tr = dummy_batch.transcript[rand_idx]\n",
        "        mel_t = mels[rand_idx].detach()\n",
        "        mel_p = pred_mels[rand_idx].detach()\n",
        "\n",
        "        aud_t = waveform[rand_idx]\n",
        "        aud_p = pred[rand_idx].detach()\n",
        "        logger.add_audio(aud_p.cpu(), aud_t.cpu(), tr)\n",
        "        logger.add_spectrogram(mel_p.cpu(), mel_t.cpu(), tr)"
      ],
      "execution_count": null,
      "outputs": [
        {
          "output_type": "stream",
          "name": "stderr",
          "text": [
            "100%|██████████| 7000/7000 [2:18:32<00:00,  1.19s/it]\n"
          ]
        }
      ]
    },
    {
      "cell_type": "code",
      "metadata": {
        "id": "pzeY6oVkq5Dn"
      },
      "source": [
        ""
      ],
      "execution_count": null,
      "outputs": []
    }
  ]
}